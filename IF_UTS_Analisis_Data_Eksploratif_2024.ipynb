{
  "nbformat": 4,
  "nbformat_minor": 0,
  "metadata": {
    "colab": {
      "provenance": []
    },
    "kernelspec": {
      "name": "python3",
      "display_name": "Python 3"
    }
  },
  "cells": [
    {
      "cell_type": "markdown",
      "source": [
        "# KESEPAKATAN BERSAMA\n",
        "\n",
        "\n",
        "> Bersama dengan ini saya berjanji akan melaksanakan ujian dengan jujur, tidak akan melakukan tindakan kecurangan apapun dalam berbagai bentuk. Saya berjanji akan mengerjakan soal ujian secara mandiri dan jujur, tidak akan membuka browser selain Google Colab dan Google Classroom. Saya berjanji tidak akan meminta ataupun memberikan jawaban dari soal ujian. Jika saya melakukan tindakan kecurangan selama ujian berlangsung, saya siap menerima konsekuensi sesuai dengan aturan akademik di UISI."
      ],
      "metadata": {
        "id": "xyBFUu6wvcEL"
      }
    },
    {
      "cell_type": "markdown",
      "source": [
        "# Petunjuk Pengerjaan"
      ],
      "metadata": {
        "id": "MlFiLoQ8s98R"
      }
    },
    {
      "cell_type": "markdown",
      "metadata": {
        "id": "dCem318zzana"
      },
      "source": [
        "**1. Terlebih dahulu, silakan salin notebook ini ke Google Drive anda dengan:**\n",
        "\n",
        "\n",
        "Klik File-Save a copy in Drive\n",
        "\n",
        "\n",
        "\n"
      ]
    },
    {
      "cell_type": "markdown",
      "source": [
        "**2. Tuliskan biodata anda (KLIK 2X)**\n",
        "\n",
        "> NAMA:\n",
        "\n",
        "> NIM:\n"
      ],
      "metadata": {
        "id": "Z2KNaqfT49-y"
      }
    },
    {
      "cell_type": "markdown",
      "metadata": {
        "id": "DynuYsYVzxh0"
      },
      "source": [
        "**3. Lengkapi Notebook ini sesuai dengan petunjuk yang ada pada masing-masing bagian.**\n",
        "\n",
        "Setelah selesai, kumpulkan notebook anda dengan cara:\n",
        "1. Simpan notebook (File -> Save), share ke email puji.andayani@uisi.ac.id\n",
        "2. Download notebook (File -> UTS_NamaAnda.ipynb) dan copy link\n",
        "3. Upload file dan link google colab di Classroom\n",
        "4. Turn in di Classroom"
      ]
    },
    {
      "cell_type": "markdown",
      "source": [
        "**4. WAKTU UTS**\n",
        "\n",
        "> WAKTU PENGERJAAN: 08.00-09.50\n",
        "\n",
        "> BATAS UPLOAD CLASSROOM: 10.00\n",
        "\n"
      ],
      "metadata": {
        "id": "ijVoFtFa7XJR"
      }
    },
    {
      "cell_type": "markdown",
      "source": [
        "**5. SIFAT UJIAN**\n",
        "\n",
        "> BUKA E-BOOK Analisis Data Eksploratif, GOOGLE COLAB DAN GOOGLE CLASSROOM\n",
        "\n",
        "\n",
        "\n",
        "\n",
        "\n"
      ],
      "metadata": {
        "id": "NJ1lvx-Pvh04"
      }
    },
    {
      "cell_type": "markdown",
      "metadata": {
        "id": "33v9Q_zGZhJj"
      },
      "source": [
        "# Import Library"
      ]
    },
    {
      "cell_type": "code",
      "metadata": {
        "id": "zv-5Xde6ZkFw"
      },
      "source": [
        "import pandas as pd\n",
        "import numpy as np\n",
        "import matplotlib.pyplot as plt\n",
        "import seaborn as sns"
      ],
      "execution_count": null,
      "outputs": []
    },
    {
      "cell_type": "markdown",
      "source": [
        "1. Buatlah data frame seperti gambar berikut. Kemudian tampilkan (print) data frame nya.\n",
        "\n",
        "![UTS_1.png](data:image/png;base64,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)"
      ],
      "metadata": {
        "id": "dhLLq6nIBlCi"
      }
    },
    {
      "cell_type": "markdown",
      "source": [],
      "metadata": {
        "id": "Cp7QoOhXeh3M"
      }
    },
    {
      "cell_type": "code",
      "source": [],
      "metadata": {
        "id": "XTsE_eSjRhU-"
      },
      "execution_count": null,
      "outputs": []
    },
    {
      "cell_type": "markdown",
      "metadata": {
        "id": "BF8wJJysm0US"
      },
      "source": [
        "2. Baca data berikut dan buatlah menjadi suatu 'DataFrame' dengan library 'pandas' dan simpan dengan nama variabel tertentu\n",
        "\n",
        "Download data pada url [http://data.bandung.go.id/index.php/portal/download/resource/b5b9ea92-d82b-4f1c-880d-8462d4077aeb])\n"
      ]
    },
    {
      "cell_type": "code",
      "source": [
        "\n"
      ],
      "metadata": {
        "id": "0-WrXWEu5fdt"
      },
      "execution_count": null,
      "outputs": []
    },
    {
      "cell_type": "markdown",
      "metadata": {
        "id": "0meGtxFWmr0H"
      },
      "source": [
        "3. Tampilkan 8 data awal dari DataFrame tersebut"
      ]
    },
    {
      "cell_type": "code",
      "metadata": {
        "id": "EkFqFjjpZyEf"
      },
      "source": [],
      "execution_count": null,
      "outputs": []
    },
    {
      "cell_type": "markdown",
      "metadata": {
        "id": "CLk0HQ2pnuuH"
      },
      "source": [
        "# Eksplorasi Data\n",
        "\n",
        "Menggunakan data frame pada soal nomor 2\n",
        "\n"
      ]
    },
    {
      "cell_type": "markdown",
      "metadata": {
        "id": "ZyVoPtUqd6gF"
      },
      "source": [
        "4. Berapa jumlah baris dari DataFrame, tampilkan jumlah barisnya."
      ]
    },
    {
      "cell_type": "code",
      "metadata": {
        "id": "HAQ-y8clnCXS"
      },
      "source": [],
      "execution_count": null,
      "outputs": []
    },
    {
      "cell_type": "markdown",
      "source": [
        "5. Berapa jumlah kolom dari DataFrame, tampilkan jumlah kolomnya."
      ],
      "metadata": {
        "id": "T3L4On4zr9a0"
      }
    },
    {
      "cell_type": "code",
      "metadata": {
        "id": "dmRNmRLAnXAo"
      },
      "source": [],
      "execution_count": null,
      "outputs": []
    },
    {
      "cell_type": "markdown",
      "source": [
        "6. Tunjukkan data pada kolom 'Jumlah Curah Hujan (mm)'"
      ],
      "metadata": {
        "id": "EfJV28Q6iVpt"
      }
    },
    {
      "cell_type": "code",
      "source": [],
      "metadata": {
        "id": "Oep9uhJaifcN"
      },
      "execution_count": null,
      "outputs": []
    },
    {
      "cell_type": "markdown",
      "source": [
        "7. Tampilkan seluruh data pada bulan oktober (baris ke tiga terakhir)"
      ],
      "metadata": {
        "id": "MY-PQRUcjURi"
      }
    },
    {
      "cell_type": "code",
      "source": [],
      "metadata": {
        "id": "Pfw4YLDXjZfg"
      },
      "execution_count": null,
      "outputs": []
    },
    {
      "cell_type": "markdown",
      "metadata": {
        "id": "gbMDw8D4osay"
      },
      "source": [
        "# Statistika Deskriptif\n",
        "\n",
        "> Gunakan DataFrame pada https://cdn.uisi.ac.id/covid_2020-12-01.csv untuk menjawab pertanyaan berikut. Buat dataframe nya terlebih dahulu.\n",
        "\n"
      ]
    },
    {
      "cell_type": "markdown",
      "source": [
        "8. Tampilkan nilai rata-rata dari jumlah kasus yang dirawat untuk semua provinsi"
      ],
      "metadata": {
        "id": "Er1f6LSNqfWc"
      }
    },
    {
      "cell_type": "code",
      "source": [
        "#dataframe\n"
      ],
      "metadata": {
        "id": "rIczokz8rQuT"
      },
      "execution_count": null,
      "outputs": []
    },
    {
      "cell_type": "code",
      "source": [
        "#mean\n"
      ],
      "metadata": {
        "id": "N4UjMvgUucBo"
      },
      "execution_count": null,
      "outputs": []
    },
    {
      "cell_type": "markdown",
      "metadata": {
        "id": "e_We8KZ1owsC"
      },
      "source": [
        "9. Tampilkan nilai tengah (median) jumlah kasus untuk usia 6-18 tahun yang terkena covid-19 untuk semua provinsi"
      ]
    },
    {
      "cell_type": "code",
      "metadata": {
        "id": "xEl2Va3bohiC"
      },
      "source": [],
      "execution_count": null,
      "outputs": []
    },
    {
      "cell_type": "markdown",
      "source": [
        "10. Tampilkan jumlah total dari kasus sembuh untuk semua provinsi"
      ],
      "metadata": {
        "id": "GUMWeSX_0GGH"
      }
    },
    {
      "cell_type": "code",
      "source": [],
      "metadata": {
        "id": "j_iVHz1L0RRI"
      },
      "execution_count": null,
      "outputs": []
    },
    {
      "cell_type": "markdown",
      "source": [
        "11. Tampilkan nilai minimum dari jumlah kasus yang sembuh"
      ],
      "metadata": {
        "id": "2dUy13An0d-r"
      }
    },
    {
      "cell_type": "code",
      "source": [],
      "metadata": {
        "id": "6-qzhOUK1exr"
      },
      "execution_count": null,
      "outputs": []
    },
    {
      "cell_type": "markdown",
      "source": [
        "12. Tampilkan nilai maksimum dari jumlah kasus yang sembuh"
      ],
      "metadata": {
        "id": "XdXgdbAO1fa1"
      }
    },
    {
      "cell_type": "code",
      "source": [],
      "metadata": {
        "id": "zzLXq-JszhHv"
      },
      "execution_count": null,
      "outputs": []
    },
    {
      "cell_type": "markdown",
      "metadata": {
        "id": "1OdFuUFQpK7Y"
      },
      "source": [
        "13. Tampilkan nilai rata-rata jumlah kasus yang dirawat untuk semua provinsi yang lebih besar dari 5.000"
      ]
    },
    {
      "cell_type": "code",
      "metadata": {
        "id": "MuOyws6mpFd6"
      },
      "source": [
        "\n"
      ],
      "execution_count": null,
      "outputs": []
    },
    {
      "cell_type": "markdown",
      "metadata": {
        "id": "ILMhfudAxsug"
      },
      "source": [
        "14. Tampilkan total jumlah kasus untuk usia 60 tahun ke atas untuk provinsi dengan kasus lebih dari 500\n",
        "\n"
      ]
    },
    {
      "cell_type": "code",
      "metadata": {
        "id": "XQ1yixeyx_OM"
      },
      "source": [],
      "execution_count": null,
      "outputs": []
    },
    {
      "cell_type": "markdown",
      "metadata": {
        "id": "FViZi8l5tv3p"
      },
      "source": [
        "# Teknik Visualisasi Data"
      ]
    },
    {
      "cell_type": "markdown",
      "metadata": {
        "id": "vY8EJwb5tx-s"
      },
      "source": [
        "Buatlah minimal 5 visualisasi dari **data iklim pada soal nomor 2**.\n",
        "\n",
        "Berikan penjelasan untuk masing-masing visualisasi yang anda buat.\n",
        "\n",
        "Anda bisa menambahkan Code dan Text cell sesuai kebutuhan"
      ]
    },
    {
      "cell_type": "markdown",
      "metadata": {
        "id": "gSG1GoJTz09z"
      },
      "source": [
        "Data pada url [http://data.bandung.go.id/index.php/portal/download/resource/b5b9ea92-d82b-4f1c-880d-8462d4077aeb])\n"
      ]
    },
    {
      "cell_type": "markdown",
      "metadata": {
        "id": "NSCbqWn1w5YQ"
      },
      "source": [
        "15. Penjelasan visualisasi 1"
      ]
    },
    {
      "cell_type": "code",
      "metadata": {
        "id": "cLxAFa73vQhE"
      },
      "source": [
        "# kode visualisasi 1\n"
      ],
      "execution_count": null,
      "outputs": []
    },
    {
      "cell_type": "markdown",
      "metadata": {
        "id": "-Ka4k9sIw8cT"
      },
      "source": [
        "16. Penjelasan visualisasi 2"
      ]
    },
    {
      "cell_type": "code",
      "metadata": {
        "id": "VlmnNb0PxCaF"
      },
      "source": [
        "# kode visualisasi 2"
      ],
      "execution_count": null,
      "outputs": []
    },
    {
      "cell_type": "markdown",
      "metadata": {
        "id": "bNSs5iwhw9Jf"
      },
      "source": [
        "17. Penjelasan visualisasi 3"
      ]
    },
    {
      "cell_type": "code",
      "metadata": {
        "id": "MKSqL7r5xDGj"
      },
      "source": [
        "# kode visualisasi 3\n"
      ],
      "execution_count": null,
      "outputs": []
    },
    {
      "cell_type": "markdown",
      "metadata": {
        "id": "7TU8aQ1Ow9xh"
      },
      "source": [
        "18. Penjelasan visualisasi 4"
      ]
    },
    {
      "cell_type": "code",
      "metadata": {
        "id": "6iSVL7pzxDzM"
      },
      "source": [
        "# kode visualisasi 4\n"
      ],
      "execution_count": null,
      "outputs": []
    },
    {
      "cell_type": "markdown",
      "metadata": {
        "id": "Eg9bQ-nZw-sW"
      },
      "source": [
        "19. Penjelasan visualisasi 5"
      ]
    },
    {
      "cell_type": "code",
      "metadata": {
        "id": "rlU2TyDsxEa9"
      },
      "source": [
        "# kode visualisasi 5\n"
      ],
      "execution_count": null,
      "outputs": []
    },
    {
      "cell_type": "markdown",
      "metadata": {
        "id": "DzY41oocw4kE"
      },
      "source": [
        "20. Buatlah sebuah visualisasi yang menggambarkan tingkat rata-rata temperatur dengan temperatur maksimalnya dalam setiap bulan seperti pada gambar berikut.\n",
        "\n",
        "\n",
        "![UTS_2.png](data:image/png;base64,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)\n"
      ]
    },
    {
      "cell_type": "code",
      "metadata": {
        "id": "k-rsGqK0xb8Z"
      },
      "source": [
        "# Visualisasi persebaran Temperatur\n"
      ],
      "execution_count": null,
      "outputs": []
    },
    {
      "cell_type": "markdown",
      "metadata": {
        "id": "2S-fFMZmpmGZ"
      },
      "source": [
        "# Transformasi Data\n",
        "\n",
        "> Gunakan data frame pada soal nomor 2.\n",
        "\n"
      ]
    },
    {
      "cell_type": "markdown",
      "metadata": {
        "id": "pb6WKU3Rpn1M"
      },
      "source": [
        "21. Tambahkan satu kolom baru dengan nama `selisih temperatur`.\n",
        "Selisih temperatur dapat dihitung = temperatur maksimal dikurangi temperatur minimal."
      ]
    },
    {
      "cell_type": "code",
      "source": [],
      "metadata": {
        "id": "9943D7-upDVo"
      },
      "execution_count": null,
      "outputs": []
    },
    {
      "cell_type": "markdown",
      "metadata": {
        "id": "0-n6yyxozFUf"
      },
      "source": [
        "22. Dari hasil data frame baru yang terbentuk, dapatkan uotlier pada kolom 'Selisih Temperatur' yang di atas 12."
      ]
    },
    {
      "cell_type": "code",
      "source": [],
      "metadata": {
        "id": "KnTBy2hT0E3G"
      },
      "execution_count": null,
      "outputs": []
    }
  ]
}